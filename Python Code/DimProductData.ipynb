{
 "cells": [
  {
   "cell_type": "code",
   "execution_count": 1,
   "id": "60323dda",
   "metadata": {},
   "outputs": [
    {
     "name": "stdout",
     "output_type": "stream",
     "text": [
      " Enter the number of rows that you want to generate in the csv file : 100\n",
      " Enter the name of the csv file : DimProductData.csv\n",
      " The process completed Successfully\n"
     ]
    }
   ],
   "source": [
    "#import python libraries \n",
    "import pandas as pd\n",
    "import random\n",
    "import csv\n",
    "\n",
    "\n",
    "#input the number of rows that the csv file should have \n",
    "\n",
    "num_rows = int(input( \" Enter the number of rows that you want to generate in the csv file : \"))\n",
    "\n",
    "\n",
    "#input the name of the csv file (e.g data.csv)\n",
    "\n",
    "csv_file = input ( \" Enter the name of the csv file : \")\n",
    "\n",
    "# details of the excel file that has the lookup data , File Path and Name , Sheet Name and column names where the data is present \n",
    "\n",
    "\n",
    "excel_file_path_name = \"C:/Users/grees/Scalable Retail Data Warehouse/LookupFile.xlsx\"\n",
    "\n",
    "excel_sheet_name_product = \"Raw Product Names\"\n",
    "product_column_name  = \"Product Name\"\n",
    "excel_sheet_name_category = \"Product Categories\"\n",
    "category_column_name = \"Category Name\"\n",
    "\n",
    "\n",
    "#fetch this sheet data in a dataframe \n",
    "\n",
    "df = pd.read_excel(excel_file_path_name,sheet_name=excel_sheet_name_product)\n",
    "df_cat = pd.read_excel(excel_file_path_name,sheet_name=excel_sheet_name_category)\n",
    "\n",
    "\n",
    "#open the csv file \n",
    "\n",
    "with open(csv_file,mode='w',newline='') as file:\n",
    "    writer=csv.writer(file)\n",
    "\n",
    "\n",
    "#create the header \n",
    "\n",
    "#####\n",
    "    header=['ProductName','Category','Brand','UnitPrice']\n",
    "\n",
    "\n",
    "#write the header to the csv file \n",
    "    writer.writerow(header)\n",
    "\n",
    "\n",
    "#loop and generate multiple rows \n",
    "    for _ in range(num_rows):\n",
    "\n",
    "\n",
    "\n",
    "#Generate a Single row \n",
    "\n",
    "####\n",
    "        row = [\n",
    "        df[product_column_name].sample(n=1).values[0],#product Name\n",
    "        df_cat[category_column_name].sample(n=1).values[0],#Category\n",
    "        random.choice(['FakeLuxeAura','FakeUrbanGlow','FakeEtherealEdge','FakeVelvetVista','FakeZenithStyle']),\n",
    "        random.randint(100,1000)\n",
    "        ]\n",
    "\n",
    "\n",
    "# write the row to the csv file \n",
    "\n",
    "        writer.writerow(row)\n",
    "\n",
    "\n",
    "#print success statement \n",
    "\n",
    "print(\" The process completed Successfully\")"
   ]
  },
  {
   "cell_type": "code",
   "execution_count": null,
   "id": "e44a8666",
   "metadata": {},
   "outputs": [],
   "source": []
  }
 ],
 "metadata": {
  "kernelspec": {
   "display_name": "Python 3 (ipykernel)",
   "language": "python",
   "name": "python3"
  },
  "language_info": {
   "codemirror_mode": {
    "name": "ipython",
    "version": 3
   },
   "file_extension": ".py",
   "mimetype": "text/x-python",
   "name": "python",
   "nbconvert_exporter": "python",
   "pygments_lexer": "ipython3",
   "version": "3.11.4"
  }
 },
 "nbformat": 4,
 "nbformat_minor": 5
}
