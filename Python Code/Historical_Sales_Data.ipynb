{
 "cells": [
  {
   "cell_type": "code",
   "execution_count": 1,
   "id": "5bf692cf",
   "metadata": {},
   "outputs": [
    {
     "name": "stdout",
     "output_type": "stream",
     "text": [
      " Enter the number of rows for orders : 100000\n",
      "         DateID  ProductID  StoreID  CustomerID  QuantityOrderded  \\\n",
      "0      20210901        524       20         598                12   \n",
      "1      20140712        642       90         437                10   \n",
      "2      20200312        170       99         403                 2   \n",
      "3      20151014        258       90         377                 2   \n",
      "4      20140914        445       44         506                15   \n",
      "...         ...        ...      ...         ...               ...   \n",
      "99995  20160723        902       85         670                16   \n",
      "99996  20150323        973       10         257                10   \n",
      "99997  20210819        893       14         384                17   \n",
      "99998  20160528        941       40         276                 1   \n",
      "99999  20191010        339       61         382                16   \n",
      "\n",
      "       OrderAmount  DiscountAmount  Shipping Cost  TotalAmount  \n",
      "0              320        6.577169      28.943811   284.479021  \n",
      "1              448       55.778498      46.368006   345.853496  \n",
      "2              225       32.636473      20.256773   172.106754  \n",
      "3              342       18.409246      21.080821   302.509933  \n",
      "4              676       22.188539      68.186771   585.624690  \n",
      "...            ...             ...            ...          ...  \n",
      "99995          772       61.966327      54.288255   655.745418  \n",
      "99996          219        5.867258      20.810603   192.322139  \n",
      "99997          298       37.746257      37.359503   222.894240  \n",
      "99998          788       70.437910     103.715535   613.846555  \n",
      "99999          338       21.962097      27.991565   288.046339  \n",
      "\n",
      "[100000 rows x 9 columns]\n"
     ]
    }
   ],
   "source": [
    "import pandas as pd\n",
    "import numpy as np\n",
    "\n",
    "\n",
    "num_rows = int(input(\" Enter the number of rows for orders : \"))\n",
    "\n",
    "#generate the series of dates between 2014 and 2024 \n",
    "\n",
    "random_dates = np.random.choice(np.arange(np.datetime64('2014-01-01'),np.datetime64('2024-07-28')),size = num_rows)\n",
    "\n",
    "\n",
    "formatted_rows = pd.to_datetime(random_dates).strftime('%Y%m%d')\n",
    "\n",
    "\n",
    "data = {\n",
    "    'DateID': formatted_rows,\n",
    "    'ProductID': np.random.randint(1,1001,size=num_rows),\n",
    "    'StoreID': np.random.randint(1,101,size=num_rows),\n",
    "    'CustomerID': np.random.randint(1,1001,size=num_rows),\n",
    "    'QuantityOrderded': np.random.randint(1,21,size=num_rows),   \n",
    "    'OrderAmount': np.random.randint(100,1001,size=num_rows)\n",
    "    }\n",
    "    \n",
    "\n",
    "\n",
    "df = pd.DataFrame(data)\n",
    "\n",
    "\n",
    "discount_perc = np.random.uniform(0.02,0.15,size=num_rows)\n",
    "shipping_cost = np.random.uniform(0.05,0.15,size=num_rows)\n",
    "\n",
    "\n",
    "# calculate columns \n",
    "\n",
    "df['DiscountAmount'] = df['OrderAmount'] * discount_perc\n",
    "df['Shipping Cost'] = df['OrderAmount'] * shipping_cost\n",
    "df['TotalAmount'] = df['OrderAmount'] -(df['DiscountAmount']+df['Shipping Cost'])\n",
    "print(df)\n",
    "\n",
    "df.to_csv('factorders.csv',index=False)\n",
    "\n",
    "\n"
   ]
  },
  {
   "cell_type": "code",
   "execution_count": null,
   "id": "711c7084",
   "metadata": {},
   "outputs": [],
   "source": []
  }
 ],
 "metadata": {
  "kernelspec": {
   "display_name": "Python 3 (ipykernel)",
   "language": "python",
   "name": "python3"
  },
  "language_info": {
   "codemirror_mode": {
    "name": "ipython",
    "version": 3
   },
   "file_extension": ".py",
   "mimetype": "text/x-python",
   "name": "python",
   "nbconvert_exporter": "python",
   "pygments_lexer": "ipython3",
   "version": "3.11.4"
  }
 },
 "nbformat": 4,
 "nbformat_minor": 5
}
