{
 "cells": [
  {
   "cell_type": "code",
   "execution_count": 1,
   "id": "41cb6aa0",
   "metadata": {},
   "outputs": [],
   "source": [
    "# import pandas library \n",
    "import pandas as pd \n",
    "\n",
    "\n",
    "# start date and end date between which we need to geenrate our dates \n",
    "\n",
    "start_date ='2014-01-01'\n",
    "end_date='2024-12-31'\n",
    "\n",
    "# generate a series of dates between the start and the end date \n",
    "\n",
    "date_range=pd.date_range(start=start_date, end = end_date)\n",
    "\n",
    "# convert these series of dates into a data frame \n",
    "\n",
    "date_dimension = pd.DataFrame(date_range,columns = ['Date'])\n",
    "\n",
    "\n",
    "# add new columns to our dataframe DayofWeek Month Quarter Year Isweekend DateID\n",
    "date_dimension['DayofWeek'] = date_dimension['Date'].dt.dayofweek\n",
    "date_dimension['Month'] = date_dimension['Date'].dt.month\n",
    "date_dimension['Quarter'] = date_dimension['Date'].dt.quarter\n",
    "date_dimension['Year'] = date_dimension['Date'].dt.year\n",
    "date_dimension['Isweekend'] = date_dimension['DayofWeek'].isin([5,6])\n",
    "date_dimension['DateID'] = date_dimension['Date'].dt.strftime('%Y%m%d').astype(int)\n",
    "\n",
    "# reorder our data frame so that the dateid becomes the 1st column\n",
    "\n",
    "cols = ['DateID'] + [col for col in date_dimension.columns if col != 'DateID']\n",
    "date_dimension=date_dimension[cols]\n",
    "\n",
    "\n",
    "\n",
    "# export it into a csv index column to be ignored \n",
    "date_dimension.to_csv('DimDate.csv',index=False)"
   ]
  },
  {
   "cell_type": "code",
   "execution_count": null,
   "id": "bf59ec4d",
   "metadata": {},
   "outputs": [],
   "source": []
  }
 ],
 "metadata": {
  "kernelspec": {
   "display_name": "Python 3 (ipykernel)",
   "language": "python",
   "name": "python3"
  },
  "language_info": {
   "codemirror_mode": {
    "name": "ipython",
    "version": 3
   },
   "file_extension": ".py",
   "mimetype": "text/x-python",
   "name": "python",
   "nbconvert_exporter": "python",
   "pygments_lexer": "ipython3",
   "version": "3.11.4"
  }
 },
 "nbformat": 4,
 "nbformat_minor": 5
}
