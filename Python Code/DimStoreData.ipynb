{
 "cells": [
  {
   "cell_type": "code",
   "execution_count": 2,
   "id": "51aa15d4",
   "metadata": {},
   "outputs": [
    {
     "name": "stdout",
     "output_type": "stream",
     "text": [
      "Enter the number of rows that you want to generate in the CSV file: 100\n",
      "Enter the name of the CSV file: DimStoreData.csv\n",
      "The process completed successfully.\n"
     ]
    }
   ],
   "source": [
    "#import python libraries \n",
    "import pandas as pd\n",
    "import random\n",
    "import csv\n",
    "from faker import Faker\n",
    "\n",
    "# Initialize Faker\n",
    "fake = Faker()\n",
    "\n",
    "# Input the number of rows that the CSV file should have \n",
    "num_rows = int(input(\"Enter the number of rows that you want to generate in the CSV file: \"))\n",
    "\n",
    "# Input the name of the CSV file (e.g., data.csv)\n",
    "csv_file = input(\"Enter the name of the CSV file: \")\n",
    "\n",
    "# Details of the Excel file that has the lookup data, file path, sheet name, and column names\n",
    "excel_file_path_name = \"C:/Users/grees/Scalable Retail Data Warehouse/LookupFile.xlsx\"\n",
    "excel_sheet_name = \"Store Name Data\"\n",
    "adjective_column_name = \"Adjectives\"\n",
    "noun_column_name = \"Nouns\"\n",
    "\n",
    "# Fetch this sheet data in a dataframe \n",
    "df = pd.read_excel(excel_file_path_name, sheet_name=excel_sheet_name)\n",
    "\n",
    "# Open the CSV file \n",
    "with open(csv_file, mode='w', newline='') as file:\n",
    "    writer = csv.writer(file)\n",
    "\n",
    "    # Create the header \n",
    "    header = ['StoreName', 'StoreType', 'StoreOpeningDate', 'Address', 'City', 'State', 'ZipCode', 'Country', 'Region', 'Manager Name']\n",
    "\n",
    "    # Write the header to the CSV file \n",
    "    writer.writerow(header)\n",
    "\n",
    "    # Loop and generate multiple rows \n",
    "    for _ in range(num_rows):\n",
    "\n",
    "        # Select a random Adjective and Noun and concatenate with \"The\" to form the store name \n",
    "        random_adjective = df[adjective_column_name].sample(n=1).values[0]\n",
    "        random_noun = df[noun_column_name].sample(n=1).values[0]\n",
    "        store_name = f\"The {random_adjective} {random_noun}\"\n",
    "        \n",
    "        # Generate a single row \n",
    "        row = [\n",
    "            store_name,\n",
    "            random.choice(['Exclusive', 'MBO', 'SMB', 'Outlet Stores']),\n",
    "            fake.date(),\n",
    "            fake.address().replace(\"\\n\", \" \").replace(\",\", \" \"),\n",
    "            fake.city(),\n",
    "            fake.state(),\n",
    "            fake.zipcode(),  # Generating a random ZIP code\n",
    "            fake.country(),\n",
    "            random.choice(['North', 'South', 'East', 'West']),\n",
    "            fake.first_name()\n",
    "        ]\n",
    "\n",
    "        # Write the row to the CSV file \n",
    "        writer.writerow(row)\n",
    "\n",
    "# Print success statement \n",
    "print(\"The process completed successfully.\")\n"
   ]
  },
  {
   "cell_type": "code",
   "execution_count": null,
   "id": "8984da8a",
   "metadata": {},
   "outputs": [],
   "source": []
  },
  {
   "cell_type": "code",
   "execution_count": null,
   "id": "673de1d1",
   "metadata": {},
   "outputs": [],
   "source": []
  }
 ],
 "metadata": {
  "kernelspec": {
   "display_name": "Python 3 (ipykernel)",
   "language": "python",
   "name": "python3"
  },
  "language_info": {
   "codemirror_mode": {
    "name": "ipython",
    "version": 3
   },
   "file_extension": ".py",
   "mimetype": "text/x-python",
   "name": "python",
   "nbconvert_exporter": "python",
   "pygments_lexer": "ipython3",
   "version": "3.11.4"
  }
 },
 "nbformat": 4,
 "nbformat_minor": 5
}
